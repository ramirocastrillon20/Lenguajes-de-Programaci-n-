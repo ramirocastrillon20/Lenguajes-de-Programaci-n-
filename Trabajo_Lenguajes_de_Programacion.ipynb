{
  "nbformat": 4,
  "nbformat_minor": 0,
  "metadata": {
    "colab": {
      "provenance": []
    },
    "kernelspec": {
      "name": "python3",
      "display_name": "Python 3"
    },
    "language_info": {
      "name": "python"
    }
  },
  "cells": [
    {
      "cell_type": "code",
      "execution_count": null,
      "metadata": {
        "id": "Yb1-wNSi-lzH"
      },
      "outputs": [],
      "source": []
    },
    {
      "cell_type": "markdown",
      "source": [
        "# Valor Presente Neto (VPN)\n",
        "El Valor Presente Neto (VPN) es un indicador financiero que mide la rentabilidad de una inversión al calcular la diferencia entre el valor actual de los flujos de caja futuros que generará el proyecto y el monto de la inversión inicial, descontados a una tasa de interés determinada. Si el VPN es positivo, la inversión se considera rentable porque genera más valor del que cuesta; si es negativo, no se recomienda, ya que implicaría una pérdida de valor.\n",
        "## Formula del Valor Presente Neto (VPN)\n",
        "La formula del Valor Presente Neto se Expresa de la siguiente Manera:\n",
        "\n",
        "\\[\n",
        "$$\n",
        "VPN = \\sum_{t=0}^{n} \\frac{C_t}{(1+r)^t} - C_0\n",
        "$$\n",
        "\\]\n",
        "\n",
        "Donde:\n",
        "\n",
        "- \\(C_t\\) Es el flujo de Caja en el Tiempo \\(t\\)\n",
        "- \\(r\\) Es la tasa de Descuento.\n",
        "- \\(n\\) Es el numero total de periodos .\n",
        "- \\(C_0\\) Es la Imversion Inicial.\n",
        "\n",
        "## Interpretación\n",
        "- Si \\(VPN>0\\), La inversion es Rentable.\n",
        "- Si \\(VPN<0\\), La Inversion no es rentable.\n",
        "- Si \\(VPN=0\\), La Inversion No genera Perdidas ni Ganancias.\n",
        "\n",
        "## Enlace Útil\n",
        "Para Obtener más Información Sobre el VPN, Puede consultar el siguiente [enlace](https://es.wikipedia.org/wiki/Valor_actual_neto)\n",
        "\n",
        "\\[\n",
        "$$\n",
        "VPN = \\sum_{t=0}^{n} \\frac{C_t}{(1+r)^t} - C_0\n",
        "$$\n",
        "\\]"
      ],
      "metadata": {
        "id": "B-YS9x9H_JTY"
      }
    },
    {
      "cell_type": "code",
      "source": [
        "Inversion_inicial = 10000\n",
        "Flujo_ano_1 = 3000\n",
        "Flujo_ano_2 = 3000\n",
        "Flujo_ano_3 = 3000\n",
        "\n",
        "Tasa_descuento = 0.05\n"
      ],
      "metadata": {
        "id": "8Egxc9F2ba4w"
      },
      "execution_count": 48,
      "outputs": []
    },
    {
      "cell_type": "code",
      "source": [
        "try:\n",
        "    print(\"el valor de inversion inicial es:\", Inversion_inicial)\n",
        "except NameError:\n",
        "    print(\"Error: La variable Inversion_inicial no está definida. Asegúrese de ejecutar la celda donde se define antes de ejecutar esta celda.\")"
      ],
      "metadata": {
        "colab": {
          "base_uri": "https://localhost:8080/"
        },
        "id": "JAL_1xTtc_44",
        "outputId": "282813e7-444f-49eb-df03-6f8c71790b5e"
      },
      "execution_count": 51,
      "outputs": [
        {
          "output_type": "stream",
          "name": "stdout",
          "text": [
            "el valor de inversion inicial es: 10000\n"
          ]
        }
      ]
    },
    {
      "cell_type": "code",
      "source": [
        "try:\n",
        "    VPN = (Flujo_ano_1 / (1 + Tasa_descuento)**1) + \\\n",
        "          (Flujo_ano_2 / (1 + Tasa_descuento)**2) + \\\n",
        "          (Flujo_ano_3 / (1 + Tasa_descuento)**3) - Inversion_inicial\n",
        "    print(\"El Valor Presente neto (vpn) es:\", VPN)\n",
        "except NameError:\n",
        "    print(\"Error: Asegúrese de que las variables Inversion_inicial, Flujo_ano_1, Flujo_ano_2, Flujo_ano_3 y Tasa_descuento estén definidas antes de ejecutar esta celda.\")"
      ],
      "metadata": {
        "colab": {
          "base_uri": "https://localhost:8080/"
        },
        "id": "E36zaUOmws08",
        "outputId": "13b0184e-7d91-492c-eb53-7dbd1e8806cf"
      },
      "execution_count": 56,
      "outputs": [
        {
          "output_type": "stream",
          "name": "stdout",
          "text": [
            "El Valor Presente neto (vpn) es: -1830.2559118885656\n"
          ]
        }
      ]
    },
    {
      "cell_type": "code",
      "source": [
        "if VPN > 0:\n",
        "  print(\"El proyecto es viable, ya que el VPN es positivo.\")\n",
        "else:\n",
        "  print(\"El proyecto no es viable, ya que el VPN es negativo.\")"
      ],
      "metadata": {
        "colab": {
          "base_uri": "https://localhost:8080/"
        },
        "id": "8ZwQ8bAN2vsY",
        "outputId": "6e590944-085e-4829-d20e-4a39a7e7a850"
      },
      "execution_count": 64,
      "outputs": [
        {
          "output_type": "stream",
          "name": "stdout",
          "text": [
            "El proyecto no es viable, ya que el VPN es negativo.\n"
          ]
        }
      ]
    }
  ]
}